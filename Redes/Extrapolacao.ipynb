{
 "cells": [
  {
   "cell_type": "code",
   "execution_count": 1,
   "metadata": {},
   "outputs": [],
   "source": [
    "import pandas as pd\n",
    "import numpy as np\n",
    "import matplotlib.pyplot as plt\n",
    "import tensorflow as tf\n",
    "from tensorflow.keras import layers\n",
    "import matplotlib.pyplot as plt"
   ]
  },
  {
   "cell_type": "code",
   "execution_count": 2,
   "metadata": {},
   "outputs": [],
   "source": [
    "class PrintEveryNEpochs(tf.keras.callbacks.Callback):\n",
    "    def __init__(self, N):\n",
    "        super(PrintEveryNEpochs, self).__init__()\n",
    "        self.N = N\n",
    "\n",
    "    def on_epoch_end(self, epoch, logs=None):\n",
    "        if (epoch + 1) % self.N == 0:\n",
    "            print(f\"Epoch {epoch + 1}: loss = {logs['loss']}\")"
   ]
  },
  {
   "cell_type": "code",
   "execution_count": 3,
   "metadata": {},
   "outputs": [
    {
     "name": "stdout",
     "output_type": "stream",
     "text": [
      "d:\\reconstrucao_estatistica_pesqueira\\reconstrucao_estatistica_brasileira\\RE\\Reconstru--o\n"
     ]
    }
   ],
   "source": [
    "import os\n",
    "os.chdir(r'd:\\reconstrucao_estatistica_pesqueira\\reconstrucao_estatistica_brasileira\\RE\\Reconstru--o')\n",
    "print(os.getcwd())"
   ]
  },
  {
   "cell_type": "code",
   "execution_count": 4,
   "metadata": {},
   "outputs": [
    {
     "name": "stderr",
     "output_type": "stream",
     "text": [
      "<>:1: SyntaxWarning: invalid escape sequence '\\R'\n",
      "<>:1: SyntaxWarning: invalid escape sequence '\\R'\n",
      "C:\\Users\\Renan\\AppData\\Local\\Temp\\ipykernel_4124\\744500801.py:1: SyntaxWarning: invalid escape sequence '\\R'\n",
      "  df = pd.read_excel('Desagregado\\R_RJ_Reconstrucao_Carangidae_2024_08_07.xlsx')\n"
     ]
    }
   ],
   "source": [
    "df = pd.read_excel('Desagregado\\R_RJ_Reconstrucao_Carangidae_2024_08_07.xlsx')\n",
    "\n",
    "x0 = df[['Ano', 'Xarelete_art']].dropna().values\n",
    "\n",
    "\n",
    "df_x0= pd.DataFrame(x0, columns= ['Ano', 'Xarelete_art'])\n",
    "\n",
    "\n",
    "x = np.array(df_x0['Ano'], dtype=np.float32).reshape(-1, 1)\n",
    "y = np.array(df_x0['Xarelete_art'], dtype=np.float32).reshape(-1, 1)\n",
    "\n",
    "x_mean = np.mean(x)\n",
    "x_std = np.std(x)\n",
    "x_normalized = (x - x_mean) / x_std\n",
    "\n",
    "y_mean = np.mean(y)\n",
    "y_std = np.std(y)\n",
    "y_normalized = (y - y_mean) / y_std"
   ]
  }
 ],
 "metadata": {
  "kernelspec": {
   "display_name": "Python 3",
   "language": "python",
   "name": "python3"
  },
  "language_info": {
   "codemirror_mode": {
    "name": "ipython",
    "version": 3
   },
   "file_extension": ".py",
   "mimetype": "text/x-python",
   "name": "python",
   "nbconvert_exporter": "python",
   "pygments_lexer": "ipython3",
   "version": "3.12.6"
  }
 },
 "nbformat": 4,
 "nbformat_minor": 2
}
