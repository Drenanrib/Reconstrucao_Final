{
 "cells": [
  {
   "cell_type": "code",
   "execution_count": 1,
   "metadata": {},
   "outputs": [],
   "source": [
    "import pandas as pd\n",
    "import numpy as np\n",
    "import matplotlib.pyplot as plt\n",
    "import tensorflow as tf\n",
    "from tensorflow.keras import layers\n",
    "import matplotlib.pyplot as plt"
   ]
  },
  {
   "cell_type": "code",
   "execution_count": 27,
   "metadata": {},
   "outputs": [
    {
     "name": "stderr",
     "output_type": "stream",
     "text": [
      "<>:2: SyntaxWarning: invalid escape sequence '\\P'\n",
      "<>:2: SyntaxWarning: invalid escape sequence '\\P'\n",
      "C:\\Users\\Renan\\AppData\\Local\\Temp\\ipykernel_19476\\2800791974.py:2: SyntaxWarning: invalid escape sequence '\\P'\n",
      "  df_2 = pd.read_excel('propor\\Proporcao_Xarelete_art_.xlsx')\n"
     ]
    }
   ],
   "source": [
    "df_1 = pd.read_excel('RJ_Reconstrucao_Carangidae_2024_08_07.xlsx')\n",
    "df_2 = pd.read_excel('propor\\Proporcao_Xarelete_art_.xlsx')\n"
   ]
  },
  {
   "cell_type": "code",
   "execution_count": 28,
   "metadata": {},
   "outputs": [
    {
     "name": "stdout",
     "output_type": "stream",
     "text": [
      "     Ano  Outros_caran_art  Outros_caran_ind  Xarelete_art  Xarelete_ind  \\\n",
      "0   1950               NaN               NaN           NaN           NaN   \n",
      "1   1951               NaN               NaN           NaN           NaN   \n",
      "2   1952               NaN               NaN           NaN           NaN   \n",
      "3   1953               NaN               NaN           NaN           NaN   \n",
      "4   1954               NaN               NaN           NaN           NaN   \n",
      "..   ...               ...               ...           ...           ...   \n",
      "68  2018               NaN               NaN      74.72815     1631.2248   \n",
      "69  2019               NaN               NaN      74.27050     2075.3352   \n",
      "70  2020               NaN               NaN      79.14280     1763.2538   \n",
      "71  2021               NaN               NaN      77.22128     2572.3550   \n",
      "72  2022               NaN               NaN      61.21620     2374.7366   \n",
      "\n",
      "    Xarelete_art_ind  Xerelete_azul_art  Xerelete_azul_ind  Gracainha_art  \\\n",
      "0                NaN                NaN                NaN            NaN   \n",
      "1                NaN                NaN                NaN            NaN   \n",
      "2                NaN                NaN                NaN            NaN   \n",
      "3                NaN                NaN                NaN            NaN   \n",
      "4                NaN                NaN                NaN            NaN   \n",
      "..               ...                ...                ...            ...   \n",
      "68               NaN                NaN                NaN            NaN   \n",
      "69               NaN                NaN                1.5            NaN   \n",
      "70               NaN             0.0015                NaN            NaN   \n",
      "71               NaN                NaN                NaN            NaN   \n",
      "72               NaN                NaN                NaN            NaN   \n",
      "\n",
      "    Gracainha_ind  ...  Palombeta_art  Palombeta_ind  Pampo_art  Pampo_ind  \\\n",
      "0             NaN  ...            NaN            NaN        NaN        NaN   \n",
      "1             NaN  ...            NaN            NaN        NaN        NaN   \n",
      "2             NaN  ...            NaN            NaN        NaN        NaN   \n",
      "3             NaN  ...            NaN            NaN        NaN        NaN   \n",
      "4             NaN  ...            NaN            NaN        NaN        NaN   \n",
      "..            ...  ...            ...            ...        ...        ...   \n",
      "68            NaN  ...         3.0293       484.8190    3.39710     2.1730   \n",
      "69            NaN  ...        10.1621       264.0540    5.20440     6.2870   \n",
      "70            NaN  ...         6.5799        40.6270    5.50115     0.1620   \n",
      "71            NaN  ...         2.3686       457.6130    3.20178     1.0454   \n",
      "72            NaN  ...         1.9349       239.1946    2.85201     0.0390   \n",
      "\n",
      "    Pampo_galhudo_art  Saramiguara_art  Saramiguara_ind  Vento_leste_art  \\\n",
      "0                 NaN              NaN              NaN              NaN   \n",
      "1                 NaN              NaN              NaN              NaN   \n",
      "2                 NaN              NaN              NaN              NaN   \n",
      "3                 NaN              NaN              NaN              NaN   \n",
      "4                 NaN              NaN              NaN              NaN   \n",
      "..                ...              ...              ...              ...   \n",
      "68                NaN           0.1505              NaN           0.0456   \n",
      "69                NaN           0.0930           0.0080           0.0030   \n",
      "70                NaN           0.0870              NaN           0.0020   \n",
      "71                NaN           0.0027              NaN              NaN   \n",
      "72                NaN           0.0979           0.0428              NaN   \n",
      "\n",
      "    Xixarro_art  Xixarro_ind  \n",
      "0           NaN          NaN  \n",
      "1           NaN          NaN  \n",
      "2           NaN          NaN  \n",
      "3           NaN          NaN  \n",
      "4           NaN          NaN  \n",
      "..          ...          ...  \n",
      "68       8.8828      21.2790  \n",
      "69      76.4669       2.4350  \n",
      "70       2.2850       5.5960  \n",
      "71     935.0050       0.5010  \n",
      "72      10.5135       1.2165  \n",
      "\n",
      "[73 rows x 45 columns]\n"
     ]
    }
   ],
   "source": [
    "print(df_1)"
   ]
  },
  {
   "cell_type": "code",
   "execution_count": 29,
   "metadata": {},
   "outputs": [],
   "source": [
    "x1 = df_1[['Ano', 'Xarelete_art_ind']]\n",
    "x2 = df_2[['Ano', 'Captura Preditos']]\n",
    "\n",
    "x1= pd.DataFrame(x1, columns= ['Ano', 'Xarelete_art_ind'])\n",
    "x2= pd.DataFrame(x1, columns= ['Ano', 'Captura Preditos'])\n",
    "df_merged = pd.merge(x1, x2, on='Ano', how='inner')\n"
   ]
  },
  {
   "cell_type": "code",
   "execution_count": 32,
   "metadata": {},
   "outputs": [],
   "source": [
    "df_merged['Predicao_art'] = df_merged['Xarelete_art_ind'].fillna(0) * df_merged['Captura Preditos'].fillna(0)"
   ]
  },
  {
   "cell_type": "code",
   "execution_count": 33,
   "metadata": {},
   "outputs": [],
   "source": [
    "df_merged.to_excel('Xarelete_art_desagregado.xlsx', index=False)"
   ]
  },
  {
   "cell_type": "markdown",
   "metadata": {},
   "source": []
  }
 ],
 "metadata": {
  "kernelspec": {
   "display_name": "Python 3",
   "language": "python",
   "name": "python3"
  },
  "language_info": {
   "codemirror_mode": {
    "name": "ipython",
    "version": 3
   },
   "file_extension": ".py",
   "mimetype": "text/x-python",
   "name": "python",
   "nbconvert_exporter": "python",
   "pygments_lexer": "ipython3",
   "version": "3.12.5"
  }
 },
 "nbformat": 4,
 "nbformat_minor": 2
}
