{
 "cells": [
  {
   "cell_type": "code",
   "execution_count": 22,
   "metadata": {},
   "outputs": [],
   "source": [
    "import pandas as pd\n",
    "import numpy as np\n",
    "import matplotlib.pyplot as plt\n",
    "import tensorflow as tf\n",
    "from tensorflow.keras import layers\n",
    "import matplotlib.pyplot as plt"
   ]
  },
  {
   "cell_type": "code",
   "execution_count": 23,
   "metadata": {},
   "outputs": [],
   "source": [
    "def calcular_proporcoes_arquivo(input_file, output_file, col_ano, col_Galo, col_Guaivira, col_Solteira, col_Olho_boi, col_Palombeta, col_Pampo):\n",
    "   \n",
    "    \n",
    "   \n",
    "    df = pd.read_excel(input_file)\n",
    "    x1 = df[[col_ano, col_Galo, col_Guaivira, col_Solteira, col_Olho_boi, col_Palombeta, col_Pampo]]\n",
    "    x1 = pd.DataFrame(x1, columns=[col_ano, col_Galo, col_Guaivira, col_Solteira, col_Olho_boi, col_Palombeta, col_Pampo])\n",
    "    x1['Soma'] = x1[col_Galo].fillna(0)  + x1[col_Guaivira].fillna(0)   + x1[col_Solteira].fillna(0)  + x1[col_Olho_boi].fillna(0)  + x1[col_Palombeta].fillna(0)  + x1[col_Pampo].fillna(0) \n",
    "    x1['Pro_Galo'] = x1[col_Galo] / x1['Soma'].replace(0, pd.NA)\n",
    "    x1['Pro_Guaivira'] = x1[col_Guaivira].fillna(0) / x1['Soma'].replace(0, pd.NA)\n",
    "    x1['Pro_solteira'] = x1[col_Solteira] / x1['Soma'].replace(0, pd.NA)\n",
    "    x1['Pro_Olho_boi'] = x1[col_Olho_boi] / x1['Soma'].replace(0, pd.NA)\n",
    "    x1['Pro_Palombeta'] = x1[col_Palombeta] / x1['Soma'].replace(0, pd.NA)\n",
    "    x1['Pro_Pampo'] = x1[col_Pampo] / x1['Soma'].replace(0, pd.NA)\n",
    "    x1.rename(columns={col_ano: 'Ano'}, inplace=True)\n",
    "    x1.to_excel(output_file, index=False)\n",
    "    return x1\n",
    "\n",
    "\n"
   ]
  },
  {
   "cell_type": "code",
   "execution_count": 24,
   "metadata": {},
   "outputs": [
    {
     "name": "stdout",
     "output_type": "stream",
     "text": [
      "     Ano  Galo_ind  Guaivira_ind  Solteira_ind  Olho_boi_ind  Palombeta_ind  \\\n",
      "0   1950       NaN           NaN           NaN           NaN            NaN   \n",
      "1   1951       NaN           NaN           NaN           NaN            NaN   \n",
      "2   1952       NaN           NaN           NaN           NaN            NaN   \n",
      "3   1953       NaN           NaN           NaN           NaN            NaN   \n",
      "4   1954       NaN           NaN           NaN           NaN            NaN   \n",
      "..   ...       ...           ...           ...           ...            ...   \n",
      "68  2018  404.0253       55.9690          1.25       27.5515       484.8190   \n",
      "69  2019   19.2538      150.8140         10.40       37.2262       264.0540   \n",
      "70  2020  372.4940      216.2463         34.00        5.9916        40.6270   \n",
      "71  2021   56.1365      133.3790          1.00        2.4300       457.6130   \n",
      "72  2022   82.2620       54.8960           NaN       22.9068       239.1946   \n",
      "\n",
      "    Pampo_ind      Soma  Pro_Galo Pro_Guaivira Pro_solteira Pro_Olho_boi  \\\n",
      "0         NaN    0.0000      <NA>         <NA>         <NA>         <NA>   \n",
      "1         NaN    0.0000      <NA>         <NA>         <NA>         <NA>   \n",
      "2         NaN    0.0000      <NA>         <NA>         <NA>         <NA>   \n",
      "3         NaN    0.0000      <NA>         <NA>         <NA>         <NA>   \n",
      "4         NaN    0.0000      <NA>         <NA>         <NA>         <NA>   \n",
      "..        ...       ...       ...          ...          ...          ...   \n",
      "68     2.1730  975.7878   0.41405     0.057358     0.001281     0.028235   \n",
      "69     6.2870  488.0350  0.039452     0.309023      0.02131     0.076278   \n",
      "70     0.1620  669.5209  0.556359     0.322987     0.050783     0.008949   \n",
      "71     1.0454  651.6039  0.086151     0.204693     0.001535     0.003729   \n",
      "72     0.0390  399.2984  0.206016     0.137481          NaN     0.057368   \n",
      "\n",
      "   Pro_Palombeta Pro_Pampo  \n",
      "0           <NA>      <NA>  \n",
      "1           <NA>      <NA>  \n",
      "2           <NA>      <NA>  \n",
      "3           <NA>      <NA>  \n",
      "4           <NA>      <NA>  \n",
      "..           ...       ...  \n",
      "68      0.496849  0.002227  \n",
      "69      0.541055  0.012882  \n",
      "70      0.060681  0.000242  \n",
      "71      0.702287  0.001604  \n",
      "72      0.599037  0.000098  \n",
      "\n",
      "[73 rows x 14 columns]\n"
     ]
    }
   ],
   "source": [
    "x1 = calcular_proporcoes_arquivo(\n",
    "    'RJ_Reconstrucao_Carangidae_2024_08_07.xlsx', \n",
    "    'Tarefa_4_prop.xlsx', \n",
    "    'Ano', 'Galo_ind', 'Guaivira_ind', 'Solteira_ind', 'Olho_boi_ind', 'Palombeta_ind', 'Pampo_ind')\n",
    "\n",
    "print(x1)"
   ]
  },
  {
   "cell_type": "code",
   "execution_count": 25,
   "metadata": {},
   "outputs": [],
   "source": [
    "x1.to_excel('propor/Prop_tarefa_5_ind_.xlsx', index=False)"
   ]
  }
 ],
 "metadata": {
  "kernelspec": {
   "display_name": "Python 3",
   "language": "python",
   "name": "python3"
  },
  "language_info": {
   "codemirror_mode": {
    "name": "ipython",
    "version": 3
   },
   "file_extension": ".py",
   "mimetype": "text/x-python",
   "name": "python",
   "nbconvert_exporter": "python",
   "pygments_lexer": "ipython3",
   "version": "3.12.6"
  }
 },
 "nbformat": 4,
 "nbformat_minor": 2
}
