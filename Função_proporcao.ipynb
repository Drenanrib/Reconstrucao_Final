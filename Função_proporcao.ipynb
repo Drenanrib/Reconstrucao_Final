{
 "cells": [
  {
   "cell_type": "code",
   "execution_count": 2,
   "metadata": {},
   "outputs": [],
   "source": [
    "import pandas as pd\n",
    "import numpy as np\n",
    "import matplotlib.pyplot as plt\n",
    "import tensorflow as tf\n",
    "from tensorflow.keras import layers\n",
    "import matplotlib.pyplot as plt"
   ]
  },
  {
   "cell_type": "code",
   "execution_count": 15,
   "metadata": {},
   "outputs": [],
   "source": [
    "def calcular_proporcoes_arquivo(input_file, output_file, col_ano, col_art, col_ind, col_extra):\n",
    "   \n",
    "    \n",
    "   \n",
    "    df = pd.read_excel(input_file)\n",
    "    x1 = df[[col_ano, col_art, col_ind]]\n",
    "    x1 = pd.DataFrame(x1, columns=[col_ano, col_art, col_ind,col_extra])\n",
    "    x1['Soma'] = x1[col_art].fillna(0) + x1[col_ind].fillna(0)  + x1[col_extra].fillna(0) \n",
    "    x1['Pro_art'] = x1[col_art].fillna(0) / x1['Soma'].replace(0, pd.NA)\n",
    "    x1['Pro_ind'] = x1[col_ind].fillna(0) / x1['Soma'].replace(0, pd.NA)\n",
    "    x1['Pro_ind'] = x1[col_extra].fillna(0) / x1['Soma'].replace(0, pd.NA)\n",
    "    x1.rename(columns={col_ano: 'Ano'}, inplace=True)\n",
    "    x1.to_excel(output_file, index=False)\n",
    "    return x1\n",
    "\n",
    "\n"
   ]
  },
  {
   "cell_type": "code",
   "execution_count": 17,
   "metadata": {},
   "outputs": [
    {
     "name": "stdout",
     "output_type": "stream",
     "text": [
      "     Ano  Gracainha_art  Garaximbora_art  Xareu_art  Soma Pro_art Pro_ind\n",
      "0   1950            NaN              NaN        NaN   0.0    <NA>    <NA>\n",
      "1   1951            NaN              NaN        NaN   0.0    <NA>    <NA>\n",
      "2   1952            NaN              NaN        NaN   0.0    <NA>    <NA>\n",
      "3   1953            NaN              NaN        NaN   0.0    <NA>    <NA>\n",
      "4   1954            NaN              NaN        NaN   0.0    <NA>    <NA>\n",
      "..   ...            ...              ...        ...   ...     ...     ...\n",
      "68  2018            NaN              NaN        NaN   0.0    <NA>    <NA>\n",
      "69  2019            NaN              NaN        NaN   0.0    <NA>    <NA>\n",
      "70  2020            NaN              NaN        NaN   0.0    <NA>    <NA>\n",
      "71  2021            NaN              NaN        NaN   0.0    <NA>    <NA>\n",
      "72  2022            NaN              NaN        NaN   0.0    <NA>    <NA>\n",
      "\n",
      "[73 rows x 7 columns]\n"
     ]
    }
   ],
   "source": [
    "x1 = calcular_proporcoes_arquivo(\n",
    "    'RJ_Reconstrucao_Carangidae_2024_08_07.xlsx', \n",
    "    'Tarefa_4_prop.xlsx', \n",
    "    'Ano', 'Gracainha_art', 'Garaximbora_art', 'Xareu_art'\n",
    ")\n",
    "\n",
    "print(x1)"
   ]
  }
 ],
 "metadata": {
  "kernelspec": {
   "display_name": "Python 3",
   "language": "python",
   "name": "python3"
  },
  "language_info": {
   "codemirror_mode": {
    "name": "ipython",
    "version": 3
   },
   "file_extension": ".py",
   "mimetype": "text/x-python",
   "name": "python",
   "nbconvert_exporter": "python",
   "pygments_lexer": "ipython3",
   "version": "3.12.6"
  }
 },
 "nbformat": 4,
 "nbformat_minor": 2
}
